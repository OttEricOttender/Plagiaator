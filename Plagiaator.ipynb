{
 "cells": [
  {
   "cell_type": "code",
   "execution_count": 1,
   "metadata": {},
   "outputs": [
    {
     "name": "stdout",
     "output_type": "stream",
     "text": [
      "Hello, Plagiaator!\n"
     ]
    }
   ],
   "source": [
    "print(\"Hello, Plagiaator!\")"
   ]
  },
  {
   "cell_type": "code",
   "execution_count": null,
   "metadata": {},
   "outputs": [],
   "source": [
    "from urllib.request import Request, urlopen\n",
    "from bs4 import BeautifulSoup\n",
    "import pandas as pd\n",
    "from IPython.display import display\n",
    "\n",
    "def parseArticle(url):\n",
    "  req=Request(url=url, headers={'User-Agent': 'Mozilla/5.0'})\n",
    "  op = urlopen(req)\n",
    "  rd = op.read()\n",
    "  op.close\n",
    "  soup = BeautifulSoup(rd, 'lxml')\n",
    "  title=soup.find(\"h1\").text\n",
    "  #print(title)\n",
    "  textClasses = soup.find_all('div', class_=\"text flex-row\")\n",
    "  keywordsClass = soup.find_all('a', class_=\"btn small round modest\")\n",
    "  keywords=[]\n",
    "  for el in textClasses:\n",
    "    text=el.text\n",
    "  for el in keywordsClass:\n",
    "    #print(el)\n",
    "    keywords.append(el.text)\n",
    "  return title, text, keywords\n",
    "\n",
    "#File full of links to articles from ERR.\n",
    "with open(\"articles.txt\") as f:\n",
    "  id_list=[]\n",
    "  title_list=[]\n",
    "  text_list=[]\n",
    "  keywords_list=[]\n",
    "  i=0\n",
    "  for url in f:\n",
    "    print(i)\n",
    "    title, text, keywords= parseArticle(url)\n",
    "    id_list.append(i)\n",
    "    title_list.append(title)\n",
    "    text_list.append(text)\n",
    "    keywords_list.append(keywords)\n",
    "    i+=1\n",
    "  #print(id_list)\n",
    "  #print(title_list)\n",
    "  #print(text_list)\n",
    "  #print(keywords_list)\n",
    "\n",
    "  #Convert to pandas dataframe.\n",
    "  table=pd.DataFrame({'ID':id_list,\n",
    "                      'Title':title_list,\n",
    "                      'Text':text_list,\n",
    "                      'Keywords':keywords_list})\n",
    "  \n",
    "  display(table)\n"
   ]
  }
 ],
 "metadata": {
  "kernelspec": {
   "display_name": "Python 3",
   "language": "python",
   "name": "python3"
  },
  "language_info": {
   "codemirror_mode": {
    "name": "ipython",
    "version": 3
   },
   "file_extension": ".py",
   "mimetype": "text/x-python",
   "name": "python",
   "nbconvert_exporter": "python",
   "pygments_lexer": "ipython3",
   "version": "3.10.6 (v3.10.6:9c7b4bd164, Aug  1 2022, 17:13:48) [Clang 13.0.0 (clang-1300.0.29.30)]"
  },
  "orig_nbformat": 4,
  "vscode": {
   "interpreter": {
    "hash": "aee8b7b246df8f9039afb4144a1f6fd8d2ca17a180786b69acc140d282b71a49"
   }
  }
 },
 "nbformat": 4,
 "nbformat_minor": 2
}
